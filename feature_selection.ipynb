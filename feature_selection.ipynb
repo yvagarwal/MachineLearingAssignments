{
 "cells": [
  {
   "cell_type": "markdown",
   "metadata": {
    "id": "JbIKDfFW45Ux"
   },
   "source": [
    "# FEATURE SELECTION\n",
    "Feature selection is a process where you automatically or manually select those features which have the maximum contribution to your model prediction output. Having irrelevant features can lead to a decrease in accuracy as your model learns from insignificant features.\n",
    "\n",
    "This assignment will focus on manual selection of relevant features.\n",
    "The dataset is of different camera models with different featues and their price. \n",
    "\n",
    "The assignment has both marked questions and unmarked ones. \n",
    "All questions written beside QUESTION # are evaluated for your final score and the ones that are not have been given only to improve your understanding."
   ]
  },
  {
   "cell_type": "markdown",
   "metadata": {
    "id": "lTtpMl2W54P7"
   },
   "source": [
    "## 1. Importing Important Packages"
   ]
  },
  {
   "cell_type": "code",
   "execution_count": 3,
   "metadata": {
    "id": "UMOQ75XN4v9X"
   },
   "outputs": [],
   "source": [
    "# ALL NECESSARY PACKAGES HAVE BEEN IMPORTED FOR YOU\n",
    "# DO NOT MAKE ANY CHANGES IN THIS CODE CELL!\n",
    "\n",
    "import numpy as np\n",
    "import pandas as pd\n",
    "import matplotlib.pyplot as plt\n",
    "from sklearn.linear_model import LinearRegression \n",
    "from sklearn.model_selection import train_test_split\n",
    "import json\n",
    "ans = [None]*8"
   ]
  },
  {
   "cell_type": "markdown",
   "metadata": {
    "id": "sJApY7_B8sbD"
   },
   "source": [
    "## 2. Importing the Dataset\n"
   ]
  },
  {
   "cell_type": "code",
   "execution_count": 6,
   "metadata": {
    "colab": {
     "base_uri": "https://localhost:8080/",
     "height": 451
    },
    "id": "oK2veMTk468d",
    "outputId": "a3e2e845-8674-4d5d-e67a-99d536178aae"
   },
   "outputs": [
    {
     "data": {
      "text/html": [
       "<div>\n",
       "<style scoped>\n",
       "    .dataframe tbody tr th:only-of-type {\n",
       "        vertical-align: middle;\n",
       "    }\n",
       "\n",
       "    .dataframe tbody tr th {\n",
       "        vertical-align: top;\n",
       "    }\n",
       "\n",
       "    .dataframe thead th {\n",
       "        text-align: right;\n",
       "    }\n",
       "</style>\n",
       "<table border=\"1\" class=\"dataframe\">\n",
       "  <thead>\n",
       "    <tr style=\"text-align: right;\">\n",
       "      <th></th>\n",
       "      <th>Model</th>\n",
       "      <th>Release date</th>\n",
       "      <th>Max resolution</th>\n",
       "      <th>Low resolution</th>\n",
       "      <th>Effective pixels</th>\n",
       "      <th>Zoom wide (W)</th>\n",
       "      <th>Zoom tele (T)</th>\n",
       "      <th>Normal focus range</th>\n",
       "      <th>Macro focus range</th>\n",
       "      <th>Storage included</th>\n",
       "      <th>Weight (inc. batteries)</th>\n",
       "      <th>Dimensions</th>\n",
       "      <th>Price</th>\n",
       "    </tr>\n",
       "  </thead>\n",
       "  <tbody>\n",
       "    <tr>\n",
       "      <th>0</th>\n",
       "      <td>Agfa ePhoto 1280</td>\n",
       "      <td>1997</td>\n",
       "      <td>1024.0</td>\n",
       "      <td>640.0</td>\n",
       "      <td>0.0</td>\n",
       "      <td>38.0</td>\n",
       "      <td>114.0</td>\n",
       "      <td>70.0</td>\n",
       "      <td>40.0</td>\n",
       "      <td>4.0</td>\n",
       "      <td>420.0</td>\n",
       "      <td>95.0</td>\n",
       "      <td>179.0</td>\n",
       "    </tr>\n",
       "    <tr>\n",
       "      <th>1</th>\n",
       "      <td>Agfa ePhoto 1680</td>\n",
       "      <td>1998</td>\n",
       "      <td>1280.0</td>\n",
       "      <td>640.0</td>\n",
       "      <td>1.0</td>\n",
       "      <td>38.0</td>\n",
       "      <td>114.0</td>\n",
       "      <td>50.0</td>\n",
       "      <td>0.0</td>\n",
       "      <td>4.0</td>\n",
       "      <td>420.0</td>\n",
       "      <td>158.0</td>\n",
       "      <td>179.0</td>\n",
       "    </tr>\n",
       "    <tr>\n",
       "      <th>2</th>\n",
       "      <td>Agfa ePhoto CL18</td>\n",
       "      <td>2000</td>\n",
       "      <td>640.0</td>\n",
       "      <td>0.0</td>\n",
       "      <td>0.0</td>\n",
       "      <td>45.0</td>\n",
       "      <td>45.0</td>\n",
       "      <td>0.0</td>\n",
       "      <td>0.0</td>\n",
       "      <td>2.0</td>\n",
       "      <td>0.0</td>\n",
       "      <td>0.0</td>\n",
       "      <td>179.0</td>\n",
       "    </tr>\n",
       "    <tr>\n",
       "      <th>3</th>\n",
       "      <td>Agfa ePhoto CL30</td>\n",
       "      <td>1999</td>\n",
       "      <td>1152.0</td>\n",
       "      <td>640.0</td>\n",
       "      <td>0.0</td>\n",
       "      <td>35.0</td>\n",
       "      <td>35.0</td>\n",
       "      <td>0.0</td>\n",
       "      <td>0.0</td>\n",
       "      <td>4.0</td>\n",
       "      <td>0.0</td>\n",
       "      <td>0.0</td>\n",
       "      <td>269.0</td>\n",
       "    </tr>\n",
       "    <tr>\n",
       "      <th>4</th>\n",
       "      <td>Agfa ePhoto CL30 Clik!</td>\n",
       "      <td>1999</td>\n",
       "      <td>1152.0</td>\n",
       "      <td>640.0</td>\n",
       "      <td>0.0</td>\n",
       "      <td>43.0</td>\n",
       "      <td>43.0</td>\n",
       "      <td>50.0</td>\n",
       "      <td>0.0</td>\n",
       "      <td>40.0</td>\n",
       "      <td>300.0</td>\n",
       "      <td>128.0</td>\n",
       "      <td>1299.0</td>\n",
       "    </tr>\n",
       "  </tbody>\n",
       "</table>\n",
       "</div>"
      ],
      "text/plain": [
       "                    Model  Release date  ...  Dimensions   Price\n",
       "0        Agfa ePhoto 1280          1997  ...        95.0   179.0\n",
       "1        Agfa ePhoto 1680          1998  ...       158.0   179.0\n",
       "2        Agfa ePhoto CL18          2000  ...         0.0   179.0\n",
       "3        Agfa ePhoto CL30          1999  ...         0.0   269.0\n",
       "4  Agfa ePhoto CL30 Clik!          1999  ...       128.0  1299.0\n",
       "\n",
       "[5 rows x 13 columns]"
      ]
     },
     "execution_count": 6,
     "metadata": {},
     "output_type": "execute_result"
    }
   ],
   "source": [
    "# THE DATASET HAS BEEN IMPORTED AND STORED IN THE VARIABLE DATASET\n",
    "# A SMALL SET OF THE DATA HAS BEEN SHOWN WHICH WILL GIVE A BRIEF UNDERSTANDING OF THE DATASET\n",
    "# THE DESCRIPTION OF THE DATA HAS ALSO BEEN PRINTED\n",
    "# DO NOT MAKE CHANGES IN THE CELL!\n",
    "\n",
    "dataset = pd.read_csv(\"/content/camera_dataset.csv\")\n",
    "dataset.head()"
   ]
  },
  {
   "cell_type": "code",
   "execution_count": 7,
   "metadata": {
    "colab": {
     "base_uri": "https://localhost:8080/",
     "height": 389
    },
    "id": "bIhwr-q7AsO4",
    "outputId": "c3923963-b2d6-4510-c428-e0c8c58e3cce"
   },
   "outputs": [
    {
     "name": "stdout",
     "output_type": "stream",
     "text": [
      "Statistics of the Dataset: \n",
      "\n"
     ]
    },
    {
     "data": {
      "text/html": [
       "<div>\n",
       "<style scoped>\n",
       "    .dataframe tbody tr th:only-of-type {\n",
       "        vertical-align: middle;\n",
       "    }\n",
       "\n",
       "    .dataframe tbody tr th {\n",
       "        vertical-align: top;\n",
       "    }\n",
       "\n",
       "    .dataframe thead th {\n",
       "        text-align: right;\n",
       "    }\n",
       "</style>\n",
       "<table border=\"1\" class=\"dataframe\">\n",
       "  <thead>\n",
       "    <tr style=\"text-align: right;\">\n",
       "      <th></th>\n",
       "      <th>Release date</th>\n",
       "      <th>Max resolution</th>\n",
       "      <th>Low resolution</th>\n",
       "      <th>Effective pixels</th>\n",
       "      <th>Zoom wide (W)</th>\n",
       "      <th>Zoom tele (T)</th>\n",
       "      <th>Normal focus range</th>\n",
       "      <th>Macro focus range</th>\n",
       "      <th>Storage included</th>\n",
       "      <th>Weight (inc. batteries)</th>\n",
       "      <th>Dimensions</th>\n",
       "      <th>Price</th>\n",
       "    </tr>\n",
       "  </thead>\n",
       "  <tbody>\n",
       "    <tr>\n",
       "      <th>count</th>\n",
       "      <td>1038.000000</td>\n",
       "      <td>1038.000000</td>\n",
       "      <td>1038.000000</td>\n",
       "      <td>1038.000000</td>\n",
       "      <td>1038.000000</td>\n",
       "      <td>1038.000000</td>\n",
       "      <td>1038.000000</td>\n",
       "      <td>1037.000000</td>\n",
       "      <td>1036.000000</td>\n",
       "      <td>1036.000000</td>\n",
       "      <td>1036.000000</td>\n",
       "      <td>1038.000000</td>\n",
       "    </tr>\n",
       "    <tr>\n",
       "      <th>mean</th>\n",
       "      <td>2003.590559</td>\n",
       "      <td>2474.672447</td>\n",
       "      <td>1773.936416</td>\n",
       "      <td>4.596339</td>\n",
       "      <td>32.963391</td>\n",
       "      <td>121.525048</td>\n",
       "      <td>44.145472</td>\n",
       "      <td>7.787850</td>\n",
       "      <td>17.447876</td>\n",
       "      <td>319.265444</td>\n",
       "      <td>105.363417</td>\n",
       "      <td>457.384393</td>\n",
       "    </tr>\n",
       "    <tr>\n",
       "      <th>std</th>\n",
       "      <td>2.724755</td>\n",
       "      <td>759.513608</td>\n",
       "      <td>830.897955</td>\n",
       "      <td>2.844044</td>\n",
       "      <td>10.333149</td>\n",
       "      <td>93.455422</td>\n",
       "      <td>24.141959</td>\n",
       "      <td>8.100081</td>\n",
       "      <td>27.440655</td>\n",
       "      <td>260.410137</td>\n",
       "      <td>24.262761</td>\n",
       "      <td>760.452918</td>\n",
       "    </tr>\n",
       "    <tr>\n",
       "      <th>min</th>\n",
       "      <td>1994.000000</td>\n",
       "      <td>0.000000</td>\n",
       "      <td>0.000000</td>\n",
       "      <td>0.000000</td>\n",
       "      <td>0.000000</td>\n",
       "      <td>0.000000</td>\n",
       "      <td>0.000000</td>\n",
       "      <td>0.000000</td>\n",
       "      <td>0.000000</td>\n",
       "      <td>0.000000</td>\n",
       "      <td>0.000000</td>\n",
       "      <td>14.000000</td>\n",
       "    </tr>\n",
       "    <tr>\n",
       "      <th>25%</th>\n",
       "      <td>2002.000000</td>\n",
       "      <td>2048.000000</td>\n",
       "      <td>1120.000000</td>\n",
       "      <td>3.000000</td>\n",
       "      <td>35.000000</td>\n",
       "      <td>96.000000</td>\n",
       "      <td>30.000000</td>\n",
       "      <td>3.000000</td>\n",
       "      <td>8.000000</td>\n",
       "      <td>180.000000</td>\n",
       "      <td>92.000000</td>\n",
       "      <td>149.000000</td>\n",
       "    </tr>\n",
       "    <tr>\n",
       "      <th>50%</th>\n",
       "      <td>2004.000000</td>\n",
       "      <td>2560.000000</td>\n",
       "      <td>2048.000000</td>\n",
       "      <td>4.000000</td>\n",
       "      <td>36.000000</td>\n",
       "      <td>108.000000</td>\n",
       "      <td>50.000000</td>\n",
       "      <td>6.000000</td>\n",
       "      <td>16.000000</td>\n",
       "      <td>226.000000</td>\n",
       "      <td>101.000000</td>\n",
       "      <td>199.000000</td>\n",
       "    </tr>\n",
       "    <tr>\n",
       "      <th>75%</th>\n",
       "      <td>2006.000000</td>\n",
       "      <td>3072.000000</td>\n",
       "      <td>2560.000000</td>\n",
       "      <td>7.000000</td>\n",
       "      <td>38.000000</td>\n",
       "      <td>117.000000</td>\n",
       "      <td>60.000000</td>\n",
       "      <td>10.000000</td>\n",
       "      <td>20.000000</td>\n",
       "      <td>350.000000</td>\n",
       "      <td>115.000000</td>\n",
       "      <td>399.000000</td>\n",
       "    </tr>\n",
       "    <tr>\n",
       "      <th>max</th>\n",
       "      <td>2007.000000</td>\n",
       "      <td>5616.000000</td>\n",
       "      <td>4992.000000</td>\n",
       "      <td>21.000000</td>\n",
       "      <td>52.000000</td>\n",
       "      <td>518.000000</td>\n",
       "      <td>120.000000</td>\n",
       "      <td>85.000000</td>\n",
       "      <td>450.000000</td>\n",
       "      <td>1860.000000</td>\n",
       "      <td>240.000000</td>\n",
       "      <td>7999.000000</td>\n",
       "    </tr>\n",
       "  </tbody>\n",
       "</table>\n",
       "</div>"
      ],
      "text/plain": [
       "       Release date  Max resolution  ...   Dimensions        Price\n",
       "count   1038.000000     1038.000000  ...  1036.000000  1038.000000\n",
       "mean    2003.590559     2474.672447  ...   105.363417   457.384393\n",
       "std        2.724755      759.513608  ...    24.262761   760.452918\n",
       "min     1994.000000        0.000000  ...     0.000000    14.000000\n",
       "25%     2002.000000     2048.000000  ...    92.000000   149.000000\n",
       "50%     2004.000000     2560.000000  ...   101.000000   199.000000\n",
       "75%     2006.000000     3072.000000  ...   115.000000   399.000000\n",
       "max     2007.000000     5616.000000  ...   240.000000  7999.000000\n",
       "\n",
       "[8 rows x 12 columns]"
      ]
     },
     "execution_count": 7,
     "metadata": {},
     "output_type": "execute_result"
    }
   ],
   "source": [
    "# OBSERVE THE STATISTICS OF THE DIFFERENT FEATURES OF THE DATASET\n",
    "# DO NOT CHANGE THIS CELL\n",
    "\n",
    "print(\"Statistics of the Dataset: \\n\")\n",
    "dataset.describe()"
   ]
  },
  {
   "cell_type": "code",
   "execution_count": 8,
   "metadata": {
    "colab": {
     "base_uri": "https://localhost:8080/"
    },
    "id": "7cCgm80jIviq",
    "outputId": "e98333b5-9dde-49ac-e4a3-c01d7ad2eebf"
   },
   "outputs": [
    {
     "data": {
      "text/plain": [
       "7"
      ]
     },
     "execution_count": 8,
     "metadata": {},
     "output_type": "execute_result"
    }
   ],
   "source": [
    "# Find the total number of NaN values present in the dataset.\n",
    "# HINT: You can use \"df.isna()\" function (where df is your dataframe) from pandas to find NaN values.\n",
    "\n",
    "# START YOUR CODE HERE:\n",
    "dataset.isna().sum().sum()\n",
    "\n",
    "\n",
    "# END YOUR CODE HERE"
   ]
  },
  {
   "cell_type": "code",
   "execution_count": 9,
   "metadata": {
    "id": "zXBAd9tPCL6R"
   },
   "outputs": [],
   "source": [
    "# THE NaN VALUES HAVE BEEN CLEANED BY REMOVING THE CORRESPONDING DATA POINTS. \n",
    "# THE CLEANED DATASET IS STORED IN THE VARIABLE \"data\". USE IT FOR FURTHER USE\n",
    "\n",
    "# DO NOT CHANGE THIS CELL!\n",
    "\n",
    "def remove_nan(df):\n",
    "  df_copy = df.copy()\n",
    "  df_copy.dropna(inplace = True)\n",
    "  return df_copy\n",
    "\n",
    "data = remove_nan(dataset)"
   ]
  },
  {
   "cell_type": "markdown",
   "metadata": {
    "id": "ZVIfC2jA_o7C"
   },
   "source": [
    "## 3. UNDERSTANDING THE DATA"
   ]
  },
  {
   "cell_type": "code",
   "execution_count": 37,
   "metadata": {
    "colab": {
     "base_uri": "https://localhost:8080/"
    },
    "id": "SLLdMjUXFO9-",
    "outputId": "c7ec833f-2a69-4c07-c667-db3cb1ee3391"
   },
   "outputs": [
    {
     "data": {
      "text/plain": [
       "1036"
      ]
     },
     "execution_count": 37,
     "metadata": {},
     "output_type": "execute_result"
    }
   ],
   "source": [
    "# Find the number of data points i.e rows in the cleaned dataset i.e data variable. You can already see in an above cell how many features i.e columns there are.\n",
    "\n",
    "# wRITE YOUR CODE HERE\n",
    "data.shape[0]\n",
    "\n",
    "\n",
    "\n",
    "# END YOUR CODE HERE"
   ]
  },
  {
   "cell_type": "code",
   "execution_count": 11,
   "metadata": {
    "id": "_qK4guei9Lqm"
   },
   "outputs": [],
   "source": [
    "# QUESTION 1: Find the datatype of the values stored in the \"Model\" column of the dataset and write them inside inverted commas. () (1 marks)\n",
    "# QUESTION 2: Find the datatype of the values stored in the \"Dimensions\" column of the dataset and write them inside inverted commas. (1 marks)\n",
    "#                Assign the answer of Question 1 to ans[0],\n",
    "#                Assign the answer of Question 2 to ans[1]. \n",
    "#                eg:- ans[0] = \"int64\"/\"float64\" if the ans is int64/float64\n",
    "# NOTE: Do not write \"int\". Write \"int64\"."
   ]
  },
  {
   "cell_type": "code",
   "execution_count": 12,
   "metadata": {
    "id": "JcaUEO0zBAY-"
   },
   "outputs": [],
   "source": [
    "# START YOUR CODE HERE:\n",
    "modeltype=str(data.dtypes['Model'])\n",
    "dimensionstype=str(data.dtypes['Dimensions'])\n",
    "\n",
    "# END CODE HERE"
   ]
  },
  {
   "cell_type": "code",
   "execution_count": 13,
   "metadata": {
    "id": "NOY9NKQPDXVV"
   },
   "outputs": [],
   "source": [
    "# WRITE YOUR ANSWERS HERE BY SUBSTITUTING None WITH YOUR ANSWER:\n",
    "# DO NOT CHANGE THE INDEXES! OTHERWISE THE ANSWER MIGHT BE EVALUATED WRONG!\n",
    "\n",
    "ans[0]='\"'+modeltype+'\"'\n",
    "ans[1]='\"'+dimensionstype+'\"'\n",
    "# print(ans[0],ans[1])"
   ]
  },
  {
   "cell_type": "code",
   "execution_count": 14,
   "metadata": {
    "id": "yd8DFuD8AY_S"
   },
   "outputs": [],
   "source": [
    "# QUESTION 3: Find out the number of unique release dates present in the dataset under the \"Release date\" column. (1 mark)\n",
    "#             Assign the answer to ans[2]."
   ]
  },
  {
   "cell_type": "code",
   "execution_count": 15,
   "metadata": {
    "id": "xgHedvLkIOxX"
   },
   "outputs": [],
   "source": [
    "# START YOUR CODE HERE\n",
    "\n",
    "res=len(data['Release date'].unique())\n",
    "\n",
    "# END YOUR CODE HERE"
   ]
  },
  {
   "cell_type": "code",
   "execution_count": 16,
   "metadata": {
    "id": "EBZbszSWIWNZ"
   },
   "outputs": [],
   "source": [
    "# WRITE YOUR ANSWER HERE BY SUBSTITUTING None WITH YOUR ANSWER\n",
    "\n",
    "ans[2] = res"
   ]
  },
  {
   "cell_type": "code",
   "execution_count": null,
   "metadata": {
    "id": "GSpZtVmBKVQI"
   },
   "outputs": [],
   "source": [
    "# If you run the same for the \"Model\" column you will observe that the \n",
    "# model column is unique and cannot be treated as a feature for predicting the price.\n",
    "# Hence we will not bother about that column from now."
   ]
  },
  {
   "cell_type": "markdown",
   "metadata": {
    "id": "-trfPH_iECbQ"
   },
   "source": [
    "## 4. VISUALIZING THE DATA"
   ]
  },
  {
   "cell_type": "code",
   "execution_count": 17,
   "metadata": {
    "colab": {
     "base_uri": "https://localhost:8080/",
     "height": 316
    },
    "id": "sbv2hLggHcoJ",
    "outputId": "0c4b9724-0b30-4f43-8d72-296c4f1052be"
   },
   "outputs": [
    {
     "data": {
      "text/plain": [
       "array([[<matplotlib.axes._subplots.AxesSubplot object at 0x7fa85aa4e850>]],\n",
       "      dtype=object)"
      ]
     },
     "execution_count": 17,
     "metadata": {},
     "output_type": "execute_result"
    },
    {
     "data": {
      "image/png": "[encoded data removed]",
      "text/plain": [
       "<Figure size 432x288 with 1 Axes>"
      ]
     },
     "metadata": {
      "needs_background": "light"
     },
     "output_type": "display_data"
    }
   ],
   "source": [
    "# RUN THE CELL BELOW TO OBSERVE THE HISTOGRAM OF THE \"Release date\" COLUMN\n",
    "# DO NOT CHANGE THIS CELL!\n",
    "data.hist(column = \"Release date\")"
   ]
  },
  {
   "cell_type": "code",
   "execution_count": 18,
   "metadata": {
    "colab": {
     "base_uri": "https://localhost:8080/",
     "height": 817
    },
    "id": "dEy3_WsNWOI4",
    "outputId": "a67bef70-bd2b-48d7-bc7f-dbf2f1b36430"
   },
   "outputs": [
    {
     "data": {
      "text/plain": [
       "array([[<matplotlib.axes._subplots.AxesSubplot object at 0x7fa85a9a4a50>,\n",
       "        <matplotlib.axes._subplots.AxesSubplot object at 0x7fa85a52b250>,\n",
       "        <matplotlib.axes._subplots.AxesSubplot object at 0x7fa85a4e18d0>],\n",
       "       [<matplotlib.axes._subplots.AxesSubplot object at 0x7fa85a497f50>,\n",
       "        <matplotlib.axes._subplots.AxesSubplot object at 0x7fa85a45a610>,\n",
       "        <matplotlib.axes._subplots.AxesSubplot object at 0x7fa85a40ec90>],\n",
       "       [<matplotlib.axes._subplots.AxesSubplot object at 0x7fa85a3d13d0>,\n",
       "        <matplotlib.axes._subplots.AxesSubplot object at 0x7fa85a386990>,\n",
       "        <matplotlib.axes._subplots.AxesSubplot object at 0x7fa85a3869d0>],\n",
       "       [<matplotlib.axes._subplots.AxesSubplot object at 0x7fa85a349190>,\n",
       "        <matplotlib.axes._subplots.AxesSubplot object at 0x7fa85a2b5d90>,\n",
       "        <matplotlib.axes._subplots.AxesSubplot object at 0x7fa85a279450>]],\n",
       "      dtype=object)"
      ]
     },
     "execution_count": 18,
     "metadata": {},
     "output_type": "execute_result"
    },
    {
     "data": {
      "image/png": "[encoded data removed]",
      "text/plain": [
       "<Figure size 1080x720 with 12 Axes>"
      ]
     },
     "metadata": {
      "needs_background": "light"
     },
     "output_type": "display_data"
    }
   ],
   "source": [
    "# TRY PLOTTING THE HISTOGRAM FOR THE OTHER COLUMNS\n",
    "\n",
    "# HINT 1: You can use a for loop to plot the histogram for all the columns in one go.\n",
    "# HINT 2: The code, \"dataset.columns\" gives a list of the columns of the dataset. \n",
    "# HINT 3: The \"not in\" phrase can be used to find if an element is not present in a particular list.\n",
    "\n",
    "# START CODE HERE:\n",
    "data.hist(column = [x for x in data.columns], figsize = (15,10))\n",
    "\n",
    "\n",
    "\n",
    "\n",
    "\n",
    "# END CODE HERE"
   ]
  },
  {
   "cell_type": "markdown",
   "metadata": {
    "id": "Yd3WAjmsN4pB"
   },
   "source": [
    "## 5. CORRELATION OF DATA"
   ]
  },
  {
   "cell_type": "code",
   "execution_count": null,
   "metadata": {
    "id": "y4m_2Abhv6Dl"
   },
   "outputs": [],
   "source": [
    "# QUESTION 4: Find the column which has the highest negative correlation with the \"Price\" column. Write the column name \n",
    "#             and the aboslute value of the correlation (1 + 1 = 2 marks)\n",
    "#             eg: if correlation of A with B is -0.66 and correlation of A with C is -0.89 then the answer would be C and 0.89.\n",
    "#             Assign the column name to ans[3] and remember to put your answer inside inverted commas.\n",
    "#             Assign the correlation value to ans[4] and remember to write the absolute value i.e |x|.\n",
    "#             eg: ans[3] = \"Model\" if the answer is the Model column\n",
    "#             eg: ans[4] = 0.74 if the correlation value is -0.74. "
   ]
  },
  {
   "cell_type": "code",
   "execution_count": 38,
   "metadata": {
    "colab": {
     "base_uri": "https://localhost:8080/"
    },
    "id": "LKows3wDxpkQ",
    "outputId": "ad5aa0bf-fab3-4141-afdb-44e7d6115d96"
   },
   "outputs": [
    {
     "name": "stdout",
     "output_type": "stream",
     "text": [
      "\"Zoom wide (W)\"\n",
      "-0.4591033999208586\n",
      "0.4591033999208586\n"
     ]
    }
   ],
   "source": [
    "# START YOUR CODE HERE:\n",
    "price_column = data[\"Price\"]\n",
    "other_column = pd.DataFrame(data, columns = [\"Release date\",\"Max resolution\", \"Low resolution\", \"Effective pixels\", \"Zoom wide (W)\", \"Zoom tele (T)\", \"Normal focus range\", \"Macro focus range\", \"Storage included\", \"Weight (inc. batteries)\", \"Dimensions\"])\n",
    "correlation = {}\n",
    "\n",
    "for col in other_column.columns:\n",
    "    correlation[col]= data[col].corr(price_column)\n",
    "    \n",
    "#print(correlation)\n",
    "#print(correlation.values())\n",
    "key_list = list(correlation.keys())\n",
    "value_list = list(correlation.values())\n",
    "\n",
    "min1=value_list[0]\n",
    "for i in range(1,len(value_list)):\n",
    "    if(value_list[i]<min1):\n",
    "        min1=value_list[i]\n",
    "\n",
    "pos = value_list.index(min1)\n",
    "\n",
    "print(f'\"{key_list[pos]}\"') \n",
    "print(min1)\n",
    "print(abs(min1))\n",
    "\n",
    "\n",
    "\n",
    "\n",
    "\n",
    "# END CODE HERE"
   ]
  },
  {
   "cell_type": "code",
   "execution_count": 20,
   "metadata": {
    "id": "Z_iCmHqVxpq7"
   },
   "outputs": [],
   "source": [
    "ans[3] = '\"'+key_list[pos]+'\"'\n",
    "ans[4] = min1"
   ]
  },
  {
   "cell_type": "markdown",
   "metadata": {
    "id": "VNF8VghKOCzs"
   },
   "source": [
    "## 5. DISTINCTIVE FEATURES"
   ]
  },
  {
   "cell_type": "code",
   "execution_count": 21,
   "metadata": {
    "id": "HXtJO4USvaCQ"
   },
   "outputs": [],
   "source": [
    "# QUESTION 5: Find the number of data points whose (a) price > 50 percentile mark AND (b) Release date > 50 percentile mark. (2 mark)\n",
    "#             NOTE: There are two conditions in the question above, both of which needs to be satisfied.\n",
    "#             Assign the answer to ans[5]."
   ]
  },
  {
   "cell_type": "code",
   "execution_count": 39,
   "metadata": {
    "colab": {
     "base_uri": "https://localhost:8080/"
    },
    "id": "rL77HD3oqJGC",
    "outputId": "ded4ea68-a255-48fa-9ed0-9690059d324c"
   },
   "outputs": [
    {
     "data": {
      "text/plain": [
       "220"
      ]
     },
     "execution_count": 39,
     "metadata": {},
     "output_type": "execute_result"
    }
   ],
   "source": [
    "# START YOUR CODE:\n",
    "new_data=data[data['Price']>199]\n",
    "res1=new_data[new_data['Release date']>2004]['Price'].count()\n",
    "\n",
    "res1\n",
    "\n",
    "\n",
    "\n",
    "# END YOUR CODE"
   ]
  },
  {
   "cell_type": "code",
   "execution_count": 40,
   "metadata": {
    "id": "j2ITBEIqqNaJ"
   },
   "outputs": [],
   "source": [
    "ans[5] = res1"
   ]
  },
  {
   "cell_type": "code",
   "execution_count": null,
   "metadata": {
    "id": "Nl_CGOr1S2tz"
   },
   "outputs": [],
   "source": [
    "# Also try finding the no data points whose (a) price > 50 percentile mark AND (b) Release Date < 59 percentile mark. \n",
    "\n",
    "# Can you justify why \"Release date >/< 50 percentile mark\" is not a good distinctive feature?\n",
    "\n",
    "# Repeat the above steps with \"Release data >/< (a) 25 percentile mark (b) 75 percentile mark (c)mean.\n",
    " . \n",
    "# Can you justify why \"Release date\" is not a good distinctive feature at all?"
   ]
  },
  {
   "cell_type": "code",
   "execution_count": null,
   "metadata": {
    "id": "QzrPzLgHXn77"
   },
   "outputs": [],
   "source": [
    "# QUESTION 6: Find the number of data points whose (a) price > 50 percentile mark AND (b) Weight (inc. batteries) > 75th percentile mark.(2 mark)\n",
    "#             NOTE: BOTH the conditions stated above need to be satisfied.\n",
    "#             Assign the answer to ans[6]."
   ]
  },
  {
   "cell_type": "code",
   "execution_count": 41,
   "metadata": {
    "colab": {
     "base_uri": "https://localhost:8080/"
    },
    "id": "doYVbbB8KnqX",
    "outputId": "61c9e6d2-409d-49d3-9569-7463926d7899"
   },
   "outputs": [
    {
     "data": {
      "text/plain": [
       "165"
      ]
     },
     "execution_count": 41,
     "metadata": {},
     "output_type": "execute_result"
    }
   ],
   "source": [
    "# START YOUR CODE HERE:\n",
    "res2=new_data[new_data['Weight (inc. batteries)']>350]['Price'].count()\n",
    "\n",
    "res2\n",
    "\n",
    "\n",
    "\n",
    "\n",
    "# END YOUR CODE HERE"
   ]
  },
  {
   "cell_type": "code",
   "execution_count": 42,
   "metadata": {
    "id": "qsJy4JU1KsJ-"
   },
   "outputs": [],
   "source": [
    "# WRITE YOUR ANSWER HERE BY SUBSTITUTING None WITH YOUR ANSWER\n",
    "\n",
    "ans[6] = res2    "
   ]
  },
  {
   "cell_type": "code",
   "execution_count": null,
   "metadata": {
    "id": "ZbcCa15yV2ec"
   },
   "outputs": [],
   "source": [
    "# Try the same with (a) price > 50 percentile mark AND (b) Weight (inc. batteries) < 75 percentile mark.\n",
    "# Can you justify whether Weight (inc. batteries) >/< 75 percentile mark is a good distinctive feature?\n",
    "# HINT: Weight (inc. batteries) > 75 percentile mark implies that price will be ?"
   ]
  },
  {
   "cell_type": "code",
   "execution_count": 44,
   "metadata": {
    "colab": {
     "base_uri": "https://localhost:8080/",
     "height": 451
    },
    "id": "0sdSJhL2KHtb",
    "outputId": "7527e30d-5a09-4274-cf1a-5d190a746c6c"
   },
   "outputs": [
    {
     "data": {
      "text/html": [
       "<div>\n",
       "<style scoped>\n",
       "    .dataframe tbody tr th:only-of-type {\n",
       "        vertical-align: middle;\n",
       "    }\n",
       "\n",
       "    .dataframe tbody tr th {\n",
       "        vertical-align: top;\n",
       "    }\n",
       "\n",
       "    .dataframe thead th {\n",
       "        text-align: right;\n",
       "    }\n",
       "</style>\n",
       "<table border=\"1\" class=\"dataframe\">\n",
       "  <thead>\n",
       "    <tr style=\"text-align: right;\">\n",
       "      <th></th>\n",
       "      <th>Model</th>\n",
       "      <th>Release date</th>\n",
       "      <th>Max resolution</th>\n",
       "      <th>Low resolution</th>\n",
       "      <th>Effective pixels</th>\n",
       "      <th>Zoom wide (W)</th>\n",
       "      <th>Zoom tele (T)</th>\n",
       "      <th>Normal focus range</th>\n",
       "      <th>Macro focus range</th>\n",
       "      <th>Storage included</th>\n",
       "      <th>Weight (inc. batteries)</th>\n",
       "      <th>Dimensions</th>\n",
       "      <th>Price</th>\n",
       "    </tr>\n",
       "  </thead>\n",
       "  <tbody>\n",
       "    <tr>\n",
       "      <th>0</th>\n",
       "      <td>Agfa ePhoto 1280</td>\n",
       "      <td>1997</td>\n",
       "      <td>1024.0</td>\n",
       "      <td>640.0</td>\n",
       "      <td>0.0</td>\n",
       "      <td>38.0</td>\n",
       "      <td>114.0</td>\n",
       "      <td>70.0</td>\n",
       "      <td>40.0</td>\n",
       "      <td>4.0</td>\n",
       "      <td>420.0</td>\n",
       "      <td>95.0</td>\n",
       "      <td>179.0</td>\n",
       "    </tr>\n",
       "    <tr>\n",
       "      <th>1</th>\n",
       "      <td>Agfa ePhoto 1680</td>\n",
       "      <td>1998</td>\n",
       "      <td>1280.0</td>\n",
       "      <td>640.0</td>\n",
       "      <td>1.0</td>\n",
       "      <td>38.0</td>\n",
       "      <td>114.0</td>\n",
       "      <td>50.0</td>\n",
       "      <td>0.0</td>\n",
       "      <td>4.0</td>\n",
       "      <td>420.0</td>\n",
       "      <td>158.0</td>\n",
       "      <td>179.0</td>\n",
       "    </tr>\n",
       "    <tr>\n",
       "      <th>2</th>\n",
       "      <td>Agfa ePhoto CL18</td>\n",
       "      <td>2000</td>\n",
       "      <td>640.0</td>\n",
       "      <td>0.0</td>\n",
       "      <td>0.0</td>\n",
       "      <td>45.0</td>\n",
       "      <td>45.0</td>\n",
       "      <td>0.0</td>\n",
       "      <td>0.0</td>\n",
       "      <td>2.0</td>\n",
       "      <td>0.0</td>\n",
       "      <td>0.0</td>\n",
       "      <td>179.0</td>\n",
       "    </tr>\n",
       "    <tr>\n",
       "      <th>3</th>\n",
       "      <td>Agfa ePhoto CL30</td>\n",
       "      <td>1999</td>\n",
       "      <td>1152.0</td>\n",
       "      <td>640.0</td>\n",
       "      <td>0.0</td>\n",
       "      <td>35.0</td>\n",
       "      <td>35.0</td>\n",
       "      <td>0.0</td>\n",
       "      <td>0.0</td>\n",
       "      <td>4.0</td>\n",
       "      <td>0.0</td>\n",
       "      <td>0.0</td>\n",
       "      <td>269.0</td>\n",
       "    </tr>\n",
       "    <tr>\n",
       "      <th>4</th>\n",
       "      <td>Agfa ePhoto CL30 Clik!</td>\n",
       "      <td>1999</td>\n",
       "      <td>1152.0</td>\n",
       "      <td>640.0</td>\n",
       "      <td>0.0</td>\n",
       "      <td>43.0</td>\n",
       "      <td>43.0</td>\n",
       "      <td>50.0</td>\n",
       "      <td>0.0</td>\n",
       "      <td>40.0</td>\n",
       "      <td>300.0</td>\n",
       "      <td>128.0</td>\n",
       "      <td>1299.0</td>\n",
       "    </tr>\n",
       "  </tbody>\n",
       "</table>\n",
       "</div>"
      ],
      "text/plain": [
       "                    Model  Release date  ...  Dimensions   Price\n",
       "0        Agfa ePhoto 1280          1997  ...        95.0   179.0\n",
       "1        Agfa ePhoto 1680          1998  ...       158.0   179.0\n",
       "2        Agfa ePhoto CL18          2000  ...         0.0   179.0\n",
       "3        Agfa ePhoto CL30          1999  ...         0.0   269.0\n",
       "4  Agfa ePhoto CL30 Clik!          1999  ...       128.0  1299.0\n",
       "\n",
       "[5 rows x 13 columns]"
      ]
     },
     "execution_count": 44,
     "metadata": {},
     "output_type": "execute_result"
    }
   ],
   "source": [
    "# TRY FITTING TWO LINEAR REGRESSION MODELS BY ONCE DROPPING THE FEATURE \"Weight (inc. batteries)\"\n",
    "# AND ONCE BY KEEPING ALL FEATURES. THEN COMPARE THE TRAINING/VALIDATION ACCURACY OF THE TWO\n",
    "# NOTE: A LINEAR REGRESSION MODEL HAS BEEN IMPLEMENTED FOR YOU IN THE CELL BELOW \n",
    "data.head()"
   ]
  },
  {
   "cell_type": "code",
   "execution_count": 47,
   "metadata": {
    "colab": {
     "base_uri": "https://localhost:8080/"
    },
    "id": "f8B7LuftM-gg",
    "outputId": "be5480e3-1be1-4477-962c-18aeccc6b0be"
   },
   "outputs": [
    {
     "name": "stdout",
     "output_type": "stream",
     "text": [
      "\n",
      " Train Accuracy of Linear Regression model with distinctive feature =  0.3082484133686034\n",
      "\n",
      " Validation Accuracy of Linear Regression model with distinctive feature =  0.17324036084799144\n",
      "\n",
      " Train Accuracy of Linear Regression model without distinctive feature =  0.26015598532272566\n",
      "\n",
      " Validation Accuracy of Linear Regression model without distinctive feature =  0.08807588276984646\n"
     ]
    }
   ],
   "source": [
    "# PRE IMPLEMENTED LINEAR REGRESSOR\n",
    "# CHANGE THIS CELL ONLY WHERE INDICATED!\n",
    "\n",
    "def implement_linear_reg():\n",
    "  # data_fs : Dataset from which you drop your most distinctive feature\n",
    "  # data :  The original Dataset with all features intact (except \"Model\" which we dropped earlier)\n",
    "  # X : the training features\n",
    "  # Y : the training label (the \"Price\" column)\n",
    "  # xtrain, xval : the training set and validation set respectively\n",
    "  # linreg : The linear regression model\n",
    "  \n",
    "  linreg = LinearRegression(fit_intercept = True, normalize = False)\n",
    "\n",
    "  data_fs = data.copy()              #Use data_fs as the dataset from where you drop the most distinctive feature. \n",
    "\n",
    "  # START YOUR CODE HERE:\n",
    "  \n",
    "  # You can write the column name enclosed within inverted commas inside the empty [] i.e eg: data_fs.drop(columns = [\"Model\"], inplace = True)\n",
    "  data_fs.drop(columns = [\"Weight (inc. batteries)\"], inplace = True)\n",
    "\n",
    "  # END YOUR CODE HERE\n",
    "  \n",
    "  Y = data[\"Price\"]\n",
    "  X = data.drop(columns = [\"Price\",\"Model\"])\n",
    "  xtrain, xval, ytrain, yval = train_test_split(X, Y, test_size = 100, random_state = 40)\n",
    "  \n",
    "  linreg.fit(xtrain, ytrain)\n",
    "  \n",
    "\n",
    "  print(\"\\n Train Accuracy of Linear Regression model with distinctive feature = \", linreg.score(xtrain, ytrain))\n",
    "  print(\"\\n Validation Accuracy of Linear Regression model with distinctive feature = \", linreg.score(xval, yval))\n",
    "  \n",
    "  Y = data_fs[\"Price\"]\n",
    "  X = data_fs.drop(columns = [\"Price\",\"Model\"])\n",
    "  xtrain, xval, ytrain, yval = train_test_split(X, Y, test_size = 100, random_state = 40)\n",
    "\n",
    "  linreg.fit(xtrain, ytrain)\n",
    "  print(\"\\n Train Accuracy of Linear Regression model without distinctive feature = \", linreg.score(xtrain, ytrain))\n",
    "  print(\"\\n Validation Accuracy of Linear Regression model without distinctive feature = \", linreg.score(xval, yval))\n",
    "\n",
    "\n",
    "implement_linear_reg()"
   ]
  },
  {
   "cell_type": "code",
   "execution_count": null,
   "metadata": {
    "id": "0pn5oqHF-M81"
   },
   "outputs": [],
   "source": [
    "# RUN THE CODE BELOW TO GET YOUR ANSWERS EVALUATED.\n",
    "# DO NOT CHANGE THIS CELL!\n",
    "\n",
    "ans = [item for item in ans]\n",
    "with open(\"ans.json\", \"w\") as f:\n",
    "  json.dump(ans, f)\n"
   ]
  },
  {
   "cell_type": "code",
   "execution_count": null,
   "metadata": {
    "id": "ZvJAvjsNbPnW"
   },
   "outputs": [],
   "source": [
    "! ../submit ans.json"
   ]
  }
 ],
 "metadata": {
  "colab": {
   "collapsed_sections": [],
   "name": "assignment2(FINAL).ipynb",
   "provenance": []
  },
  "kernelspec": {
   "display_name": "Python 3",
   "language": "python",
   "name": "python3"
  },
  "language_info": {
   "codemirror_mode": {
    "name": "ipython",
    "version": 3
   },
   "file_extension": ".py",
   "mimetype": "text/x-python",
   "name": "python",
   "nbconvert_exporter": "python",
   "pygments_lexer": "ipython3",
   "version": "3.8.8"
  }
 },
 "nbformat": 4,
 "nbformat_minor": 1
}
