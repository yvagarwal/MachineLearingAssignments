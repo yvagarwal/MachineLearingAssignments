{
 "cells": [
  {
   "cell_type": "code",
   "execution_count": 29,
   "metadata": {
    "id": "Cr5M5xo8bCrB"
   },
   "outputs": [],
   "source": [
    "# Do not make any changes in this cell\n",
    "# Simply execute it and move on\n",
    "\n",
    "import pandas as pd\n",
    "import numpy as np\n",
    "import matplotlib.pyplot as plt\n",
    "import json\n",
    "ans = [None]*8"
   ]
  },
  {
   "cell_type": "code",
   "execution_count": 30,
   "metadata": {
    "colab": {
     "base_uri": "https://localhost:8080/"
    },
    "id": "1f2v_HjQbqly",
    "outputId": "2a2e4493-a8eb-43ca-bc41-67e924768bc4"
   },
   "outputs": [
    {
     "data": {
      "text/plain": [
       "{'data': array([[6.3200e-03, 1.8000e+01, 2.3100e+00, ..., 1.5300e+01, 3.9690e+02,\n",
       "         4.9800e+00],\n",
       "        [2.7310e-02, 0.0000e+00, 7.0700e+00, ..., 1.7800e+01, 3.9690e+02,\n",
       "         9.1400e+00],\n",
       "        [2.7290e-02, 0.0000e+00, 7.0700e+00, ..., 1.7800e+01, 3.9283e+02,\n",
       "         4.0300e+00],\n",
       "        ...,\n",
       "        [6.0760e-02, 0.0000e+00, 1.1930e+01, ..., 2.1000e+01, 3.9690e+02,\n",
       "         5.6400e+00],\n",
       "        [1.0959e-01, 0.0000e+00, 1.1930e+01, ..., 2.1000e+01, 3.9345e+02,\n",
       "         6.4800e+00],\n",
       "        [4.7410e-02, 0.0000e+00, 1.1930e+01, ..., 2.1000e+01, 3.9690e+02,\n",
       "         7.8800e+00]]),\n",
       " 'target': array([24. , 21.6, 34.7, 33.4, 36.2, 28.7, 22.9, 27.1, 16.5, 18.9, 15. ,\n",
       "        18.9, 21.7, 20.4, 18.2, 19.9, 23.1, 17.5, 20.2, 18.2, 13.6, 19.6,\n",
       "        15.2, 14.5, 15.6, 13.9, 16.6, 14.8, 18.4, 21. , 12.7, 14.5, 13.2,\n",
       "        13.1, 13.5, 18.9, 20. , 21. , 24.7, 30.8, 34.9, 26.6, 25.3, 24.7,\n",
       "        21.2, 19.3, 20. , 16.6, 14.4, 19.4, 19.7, 20.5, 25. , 23.4, 18.9,\n",
       "        35.4, 24.7, 31.6, 23.3, 19.6, 18.7, 16. , 22.2, 25. , 33. , 23.5,\n",
       "        19.4, 22. , 17.4, 20.9, 24.2, 21.7, 22.8, 23.4, 24.1, 21.4, 20. ,\n",
       "        20.8, 21.2, 20.3, 28. , 23.9, 24.8, 22.9, 23.9, 26.6, 22.5, 22.2,\n",
       "        23.6, 28.7, 22.6, 22. , 22.9, 25. , 20.6, 28.4, 21.4, 38.7, 43.8,\n",
       "        33.2, 27.5, 26.5, 18.6, 19.3, 20.1, 19.5, 19.5, 20.4, 19.8, 19.4,\n",
       "        21.7, 22.8, 18.8, 18.7, 18.5, 18.3, 21.2, 19.2, 20.4, 19.3, 22. ,\n",
       "        20.3, 20.5, 17.3, 18.8, 21.4, 15.7, 16.2, 18. , 14.3, 19.2, 19.6,\n",
       "        23. , 18.4, 15.6, 18.1, 17.4, 17.1, 13.3, 17.8, 14. , 14.4, 13.4,\n",
       "        15.6, 11.8, 13.8, 15.6, 14.6, 17.8, 15.4, 21.5, 19.6, 15.3, 19.4,\n",
       "        17. , 15.6, 13.1, 41.3, 24.3, 23.3, 27. , 50. , 50. , 50. , 22.7,\n",
       "        25. , 50. , 23.8, 23.8, 22.3, 17.4, 19.1, 23.1, 23.6, 22.6, 29.4,\n",
       "        23.2, 24.6, 29.9, 37.2, 39.8, 36.2, 37.9, 32.5, 26.4, 29.6, 50. ,\n",
       "        32. , 29.8, 34.9, 37. , 30.5, 36.4, 31.1, 29.1, 50. , 33.3, 30.3,\n",
       "        34.6, 34.9, 32.9, 24.1, 42.3, 48.5, 50. , 22.6, 24.4, 22.5, 24.4,\n",
       "        20. , 21.7, 19.3, 22.4, 28.1, 23.7, 25. , 23.3, 28.7, 21.5, 23. ,\n",
       "        26.7, 21.7, 27.5, 30.1, 44.8, 50. , 37.6, 31.6, 46.7, 31.5, 24.3,\n",
       "        31.7, 41.7, 48.3, 29. , 24. , 25.1, 31.5, 23.7, 23.3, 22. , 20.1,\n",
       "        22.2, 23.7, 17.6, 18.5, 24.3, 20.5, 24.5, 26.2, 24.4, 24.8, 29.6,\n",
       "        42.8, 21.9, 20.9, 44. , 50. , 36. , 30.1, 33.8, 43.1, 48.8, 31. ,\n",
       "        36.5, 22.8, 30.7, 50. , 43.5, 20.7, 21.1, 25.2, 24.4, 35.2, 32.4,\n",
       "        32. , 33.2, 33.1, 29.1, 35.1, 45.4, 35.4, 46. , 50. , 32.2, 22. ,\n",
       "        20.1, 23.2, 22.3, 24.8, 28.5, 37.3, 27.9, 23.9, 21.7, 28.6, 27.1,\n",
       "        20.3, 22.5, 29. , 24.8, 22. , 26.4, 33.1, 36.1, 28.4, 33.4, 28.2,\n",
       "        22.8, 20.3, 16.1, 22.1, 19.4, 21.6, 23.8, 16.2, 17.8, 19.8, 23.1,\n",
       "        21. , 23.8, 23.1, 20.4, 18.5, 25. , 24.6, 23. , 22.2, 19.3, 22.6,\n",
       "        19.8, 17.1, 19.4, 22.2, 20.7, 21.1, 19.5, 18.5, 20.6, 19. , 18.7,\n",
       "        32.7, 16.5, 23.9, 31.2, 17.5, 17.2, 23.1, 24.5, 26.6, 22.9, 24.1,\n",
       "        18.6, 30.1, 18.2, 20.6, 17.8, 21.7, 22.7, 22.6, 25. , 19.9, 20.8,\n",
       "        16.8, 21.9, 27.5, 21.9, 23.1, 50. , 50. , 50. , 50. , 50. , 13.8,\n",
       "        13.8, 15. , 13.9, 13.3, 13.1, 10.2, 10.4, 10.9, 11.3, 12.3,  8.8,\n",
       "         7.2, 10.5,  7.4, 10.2, 11.5, 15.1, 23.2,  9.7, 13.8, 12.7, 13.1,\n",
       "        12.5,  8.5,  5. ,  6.3,  5.6,  7.2, 12.1,  8.3,  8.5,  5. , 11.9,\n",
       "        27.9, 17.2, 27.5, 15. , 17.2, 17.9, 16.3,  7. ,  7.2,  7.5, 10.4,\n",
       "         8.8,  8.4, 16.7, 14.2, 20.8, 13.4, 11.7,  8.3, 10.2, 10.9, 11. ,\n",
       "         9.5, 14.5, 14.1, 16.1, 14.3, 11.7, 13.4,  9.6,  8.7,  8.4, 12.8,\n",
       "        10.5, 17.1, 18.4, 15.4, 10.8, 11.8, 14.9, 12.6, 14.1, 13. , 13.4,\n",
       "        15.2, 16.1, 17.8, 14.9, 14.1, 12.7, 13.5, 14.9, 20. , 16.4, 17.7,\n",
       "        19.5, 20.2, 21.4, 19.9, 19. , 19.1, 19.1, 20.1, 19.9, 19.6, 23.2,\n",
       "        29.8, 13.8, 13.3, 16.7, 12. , 14.6, 21.4, 23. , 23.7, 25. , 21.8,\n",
       "        20.6, 21.2, 19.1, 20.6, 15.2,  7. ,  8.1, 13.6, 20.1, 21.8, 24.5,\n",
       "        23.1, 19.7, 18.3, 21.2, 17.5, 16.8, 22.4, 20.6, 23.9, 22. , 11.9]),\n",
       " 'feature_names': array(['CRIM', 'ZN', 'INDUS', 'CHAS', 'NOX', 'RM', 'AGE', 'DIS', 'RAD',\n",
       "        'TAX', 'PTRATIO', 'B', 'LSTAT'], dtype='<U7'),\n",
       " 'DESCR': \".. _boston_dataset:\\n\\nBoston house prices dataset\\n---------------------------\\n\\n**Data Set Characteristics:**  \\n\\n    :Number of Instances: 506 \\n\\n    :Number of Attributes: 13 numeric/categorical predictive. Median Value (attribute 14) is usually the target.\\n\\n    :Attribute Information (in order):\\n        - CRIM     per capita crime rate by town\\n        - ZN       proportion of residential land zoned for lots over 25,000 sq.ft.\\n        - INDUS    proportion of non-retail business acres per town\\n        - CHAS     Charles River dummy variable (= 1 if tract bounds river; 0 otherwise)\\n        - NOX      nitric oxides concentration (parts per 10 million)\\n        - RM       average number of rooms per dwelling\\n        - AGE      proportion of owner-occupied units built prior to 1940\\n        - DIS      weighted distances to five Boston employment centres\\n        - RAD      index of accessibility to radial highways\\n        - TAX      full-value property-tax rate per $10,000\\n        - PTRATIO  pupil-teacher ratio by town\\n        - B        1000(Bk - 0.63)^2 where Bk is the proportion of blacks by town\\n        - LSTAT    % lower status of the population\\n        - MEDV     Median value of owner-occupied homes in $1000's\\n\\n    :Missing Attribute Values: None\\n\\n    :Creator: Harrison, D. and Rubinfeld, D.L.\\n\\nThis is a copy of UCI ML housing dataset.\\nhttps://archive.ics.uci.edu/ml/machine-learning-databases/housing/\\n\\n\\nThis dataset was taken from the StatLib library which is maintained at Carnegie Mellon University.\\n\\nThe Boston house-price data of Harrison, D. and Rubinfeld, D.L. 'Hedonic\\nprices and the demand for clean air', J. Environ. Economics & Management,\\nvol.5, 81-102, 1978.   Used in Belsley, Kuh & Welsch, 'Regression diagnostics\\n...', Wiley, 1980.   N.B. Various transformations are used in the table on\\npages 244-261 of the latter.\\n\\nThe Boston house-price data has been used in many machine learning papers that address regression\\nproblems.   \\n     \\n.. topic:: References\\n\\n   - Belsley, Kuh & Welsch, 'Regression diagnostics: Identifying Influential Data and Sources of Collinearity', Wiley, 1980. 244-261.\\n   - Quinlan,R. (1993). Combining Instance-Based and Model-Based Learning. In Proceedings on the Tenth International Conference of Machine Learning, 236-243, University of Massachusetts, Amherst. Morgan Kaufmann.\\n\",\n",
       " 'filename': 'C:\\\\ProgramData\\\\Anaconda3\\\\lib\\\\site-packages\\\\sklearn\\\\datasets\\\\data\\\\boston_house_prices.csv'}"
      ]
     },
     "execution_count": 30,
     "metadata": {},
     "output_type": "execute_result"
    }
   ],
   "source": [
    "# The exercise uses Boston housing dataset which is an inbuilt dataset of scikit learn.\n",
    "# Run the cell below to import and get the information about the data.\n",
    "\n",
    "# Do not make any changes in this cell.\n",
    "# Simply execute it and move on\n",
    "\n",
    "from sklearn.datasets import load_boston\n",
    "boston=load_boston()\n",
    "boston"
   ]
  },
  {
   "cell_type": "code",
   "execution_count": 31,
   "metadata": {
    "colab": {
     "base_uri": "https://localhost:8080/",
     "height": 419
    },
    "id": "spBypUdScL8U",
    "outputId": "29895ecb-b350-4284-def5-0838bafde1b3"
   },
   "outputs": [
    {
     "data": {
      "text/html": [
       "<div>\n",
       "<style scoped>\n",
       "    .dataframe tbody tr th:only-of-type {\n",
       "        vertical-align: middle;\n",
       "    }\n",
       "\n",
       "    .dataframe tbody tr th {\n",
       "        vertical-align: top;\n",
       "    }\n",
       "\n",
       "    .dataframe thead th {\n",
       "        text-align: right;\n",
       "    }\n",
       "</style>\n",
       "<table border=\"1\" class=\"dataframe\">\n",
       "  <thead>\n",
       "    <tr style=\"text-align: right;\">\n",
       "      <th></th>\n",
       "      <th>CRIM</th>\n",
       "      <th>ZN</th>\n",
       "      <th>INDUS</th>\n",
       "      <th>CHAS</th>\n",
       "      <th>NOX</th>\n",
       "      <th>RM</th>\n",
       "      <th>AGE</th>\n",
       "      <th>DIS</th>\n",
       "      <th>RAD</th>\n",
       "      <th>TAX</th>\n",
       "      <th>PTRATIO</th>\n",
       "      <th>B</th>\n",
       "      <th>LSTAT</th>\n",
       "      <th>target</th>\n",
       "    </tr>\n",
       "  </thead>\n",
       "  <tbody>\n",
       "    <tr>\n",
       "      <th>0</th>\n",
       "      <td>0.00632</td>\n",
       "      <td>18.0</td>\n",
       "      <td>2.31</td>\n",
       "      <td>0.0</td>\n",
       "      <td>0.538</td>\n",
       "      <td>6.575</td>\n",
       "      <td>65.2</td>\n",
       "      <td>4.0900</td>\n",
       "      <td>1.0</td>\n",
       "      <td>296.0</td>\n",
       "      <td>15.3</td>\n",
       "      <td>396.90</td>\n",
       "      <td>4.98</td>\n",
       "      <td>24.0</td>\n",
       "    </tr>\n",
       "    <tr>\n",
       "      <th>1</th>\n",
       "      <td>0.02731</td>\n",
       "      <td>0.0</td>\n",
       "      <td>7.07</td>\n",
       "      <td>0.0</td>\n",
       "      <td>0.469</td>\n",
       "      <td>6.421</td>\n",
       "      <td>78.9</td>\n",
       "      <td>4.9671</td>\n",
       "      <td>2.0</td>\n",
       "      <td>242.0</td>\n",
       "      <td>17.8</td>\n",
       "      <td>396.90</td>\n",
       "      <td>9.14</td>\n",
       "      <td>21.6</td>\n",
       "    </tr>\n",
       "    <tr>\n",
       "      <th>2</th>\n",
       "      <td>0.02729</td>\n",
       "      <td>0.0</td>\n",
       "      <td>7.07</td>\n",
       "      <td>0.0</td>\n",
       "      <td>0.469</td>\n",
       "      <td>7.185</td>\n",
       "      <td>61.1</td>\n",
       "      <td>4.9671</td>\n",
       "      <td>2.0</td>\n",
       "      <td>242.0</td>\n",
       "      <td>17.8</td>\n",
       "      <td>392.83</td>\n",
       "      <td>4.03</td>\n",
       "      <td>34.7</td>\n",
       "    </tr>\n",
       "    <tr>\n",
       "      <th>3</th>\n",
       "      <td>0.03237</td>\n",
       "      <td>0.0</td>\n",
       "      <td>2.18</td>\n",
       "      <td>0.0</td>\n",
       "      <td>0.458</td>\n",
       "      <td>6.998</td>\n",
       "      <td>45.8</td>\n",
       "      <td>6.0622</td>\n",
       "      <td>3.0</td>\n",
       "      <td>222.0</td>\n",
       "      <td>18.7</td>\n",
       "      <td>394.63</td>\n",
       "      <td>2.94</td>\n",
       "      <td>33.4</td>\n",
       "    </tr>\n",
       "    <tr>\n",
       "      <th>4</th>\n",
       "      <td>0.06905</td>\n",
       "      <td>0.0</td>\n",
       "      <td>2.18</td>\n",
       "      <td>0.0</td>\n",
       "      <td>0.458</td>\n",
       "      <td>7.147</td>\n",
       "      <td>54.2</td>\n",
       "      <td>6.0622</td>\n",
       "      <td>3.0</td>\n",
       "      <td>222.0</td>\n",
       "      <td>18.7</td>\n",
       "      <td>396.90</td>\n",
       "      <td>5.33</td>\n",
       "      <td>36.2</td>\n",
       "    </tr>\n",
       "    <tr>\n",
       "      <th>...</th>\n",
       "      <td>...</td>\n",
       "      <td>...</td>\n",
       "      <td>...</td>\n",
       "      <td>...</td>\n",
       "      <td>...</td>\n",
       "      <td>...</td>\n",
       "      <td>...</td>\n",
       "      <td>...</td>\n",
       "      <td>...</td>\n",
       "      <td>...</td>\n",
       "      <td>...</td>\n",
       "      <td>...</td>\n",
       "      <td>...</td>\n",
       "      <td>...</td>\n",
       "    </tr>\n",
       "    <tr>\n",
       "      <th>501</th>\n",
       "      <td>0.06263</td>\n",
       "      <td>0.0</td>\n",
       "      <td>11.93</td>\n",
       "      <td>0.0</td>\n",
       "      <td>0.573</td>\n",
       "      <td>6.593</td>\n",
       "      <td>69.1</td>\n",
       "      <td>2.4786</td>\n",
       "      <td>1.0</td>\n",
       "      <td>273.0</td>\n",
       "      <td>21.0</td>\n",
       "      <td>391.99</td>\n",
       "      <td>9.67</td>\n",
       "      <td>22.4</td>\n",
       "    </tr>\n",
       "    <tr>\n",
       "      <th>502</th>\n",
       "      <td>0.04527</td>\n",
       "      <td>0.0</td>\n",
       "      <td>11.93</td>\n",
       "      <td>0.0</td>\n",
       "      <td>0.573</td>\n",
       "      <td>6.120</td>\n",
       "      <td>76.7</td>\n",
       "      <td>2.2875</td>\n",
       "      <td>1.0</td>\n",
       "      <td>273.0</td>\n",
       "      <td>21.0</td>\n",
       "      <td>396.90</td>\n",
       "      <td>9.08</td>\n",
       "      <td>20.6</td>\n",
       "    </tr>\n",
       "    <tr>\n",
       "      <th>503</th>\n",
       "      <td>0.06076</td>\n",
       "      <td>0.0</td>\n",
       "      <td>11.93</td>\n",
       "      <td>0.0</td>\n",
       "      <td>0.573</td>\n",
       "      <td>6.976</td>\n",
       "      <td>91.0</td>\n",
       "      <td>2.1675</td>\n",
       "      <td>1.0</td>\n",
       "      <td>273.0</td>\n",
       "      <td>21.0</td>\n",
       "      <td>396.90</td>\n",
       "      <td>5.64</td>\n",
       "      <td>23.9</td>\n",
       "    </tr>\n",
       "    <tr>\n",
       "      <th>504</th>\n",
       "      <td>0.10959</td>\n",
       "      <td>0.0</td>\n",
       "      <td>11.93</td>\n",
       "      <td>0.0</td>\n",
       "      <td>0.573</td>\n",
       "      <td>6.794</td>\n",
       "      <td>89.3</td>\n",
       "      <td>2.3889</td>\n",
       "      <td>1.0</td>\n",
       "      <td>273.0</td>\n",
       "      <td>21.0</td>\n",
       "      <td>393.45</td>\n",
       "      <td>6.48</td>\n",
       "      <td>22.0</td>\n",
       "    </tr>\n",
       "    <tr>\n",
       "      <th>505</th>\n",
       "      <td>0.04741</td>\n",
       "      <td>0.0</td>\n",
       "      <td>11.93</td>\n",
       "      <td>0.0</td>\n",
       "      <td>0.573</td>\n",
       "      <td>6.030</td>\n",
       "      <td>80.8</td>\n",
       "      <td>2.5050</td>\n",
       "      <td>1.0</td>\n",
       "      <td>273.0</td>\n",
       "      <td>21.0</td>\n",
       "      <td>396.90</td>\n",
       "      <td>7.88</td>\n",
       "      <td>11.9</td>\n",
       "    </tr>\n",
       "  </tbody>\n",
       "</table>\n",
       "<p>506 rows × 14 columns</p>\n",
       "</div>"
      ],
      "text/plain": [
       "        CRIM    ZN  INDUS  CHAS    NOX     RM   AGE     DIS  RAD    TAX  \\\n",
       "0    0.00632  18.0   2.31   0.0  0.538  6.575  65.2  4.0900  1.0  296.0   \n",
       "1    0.02731   0.0   7.07   0.0  0.469  6.421  78.9  4.9671  2.0  242.0   \n",
       "2    0.02729   0.0   7.07   0.0  0.469  7.185  61.1  4.9671  2.0  242.0   \n",
       "3    0.03237   0.0   2.18   0.0  0.458  6.998  45.8  6.0622  3.0  222.0   \n",
       "4    0.06905   0.0   2.18   0.0  0.458  7.147  54.2  6.0622  3.0  222.0   \n",
       "..       ...   ...    ...   ...    ...    ...   ...     ...  ...    ...   \n",
       "501  0.06263   0.0  11.93   0.0  0.573  6.593  69.1  2.4786  1.0  273.0   \n",
       "502  0.04527   0.0  11.93   0.0  0.573  6.120  76.7  2.2875  1.0  273.0   \n",
       "503  0.06076   0.0  11.93   0.0  0.573  6.976  91.0  2.1675  1.0  273.0   \n",
       "504  0.10959   0.0  11.93   0.0  0.573  6.794  89.3  2.3889  1.0  273.0   \n",
       "505  0.04741   0.0  11.93   0.0  0.573  6.030  80.8  2.5050  1.0  273.0   \n",
       "\n",
       "     PTRATIO       B  LSTAT  target  \n",
       "0       15.3  396.90   4.98    24.0  \n",
       "1       17.8  396.90   9.14    21.6  \n",
       "2       17.8  392.83   4.03    34.7  \n",
       "3       18.7  394.63   2.94    33.4  \n",
       "4       18.7  396.90   5.33    36.2  \n",
       "..       ...     ...    ...     ...  \n",
       "501     21.0  391.99   9.67    22.4  \n",
       "502     21.0  396.90   9.08    20.6  \n",
       "503     21.0  396.90   5.64    23.9  \n",
       "504     21.0  393.45   6.48    22.0  \n",
       "505     21.0  396.90   7.88    11.9  \n",
       "\n",
       "[506 rows x 14 columns]"
      ]
     },
     "execution_count": 31,
     "metadata": {},
     "output_type": "execute_result"
    }
   ],
   "source": [
    "# Creating a dataframe\n",
    "\n",
    "# Do not make any changes in this cell\n",
    "# Simply execute it and move on\n",
    "\n",
    "boston_df=pd.DataFrame(boston['data'], columns=boston['feature_names'])\n",
    "boston_df['target'] = pd.DataFrame(boston['target'])\n",
    "boston_df\n"
   ]
  },
  {
   "cell_type": "code",
   "execution_count": 32,
   "metadata": {
    "id": "cwI6sE7cc7rW"
   },
   "outputs": [],
   "source": [
    "# Question 1: Find the mean of the \"target\" values in the dataframe (boston_df)  \n",
    "#             Assign the answer to ans[0] \n",
    "#             eg. ans[0] = 24.976534890123 (if mean obtained = 24.976534890123)"
   ]
  },
  {
   "cell_type": "code",
   "execution_count": 33,
   "metadata": {
    "colab": {
     "base_uri": "https://localhost:8080/"
    },
    "id": "6qulRo1fdtIk",
    "outputId": "445f590c-9fe9-4bed-d278-cdeef415ec2b"
   },
   "outputs": [
    {
     "data": {
      "text/plain": [
       "22.532806324110698"
      ]
     },
     "execution_count": 33,
     "metadata": {},
     "output_type": "execute_result"
    }
   ],
   "source": [
    "# Your Code: Enter your Code below\n",
    "mean1 = boston_df['target'].mean()\n",
    "mean1"
   ]
  },
  {
   "cell_type": "code",
   "execution_count": 34,
   "metadata": {
    "id": "frZm9rnmdwIs"
   },
   "outputs": [],
   "source": [
    "#1 mark\n",
    "ans[0] = 22.532806324110698"
   ]
  },
  {
   "cell_type": "code",
   "execution_count": 35,
   "metadata": {
    "colab": {
     "base_uri": "https://localhost:8080/",
     "height": 909
    },
    "id": "Dj2qsMWaeb9c",
    "outputId": "260593a9-e39f-4348-f8e8-23c36ecb39ec"
   },
   "outputs": [
    {
     "data": {
      "text/plain": [
       "array([[<AxesSubplot:title={'center':'CRIM'}>,\n",
       "        <AxesSubplot:title={'center':'ZN'}>,\n",
       "        <AxesSubplot:title={'center':'INDUS'}>,\n",
       "        <AxesSubplot:title={'center':'CHAS'}>],\n",
       "       [<AxesSubplot:title={'center':'NOX'}>,\n",
       "        <AxesSubplot:title={'center':'RM'}>,\n",
       "        <AxesSubplot:title={'center':'AGE'}>,\n",
       "        <AxesSubplot:title={'center':'DIS'}>],\n",
       "       [<AxesSubplot:title={'center':'RAD'}>,\n",
       "        <AxesSubplot:title={'center':'TAX'}>,\n",
       "        <AxesSubplot:title={'center':'PTRATIO'}>,\n",
       "        <AxesSubplot:title={'center':'B'}>],\n",
       "       [<AxesSubplot:title={'center':'LSTAT'}>,\n",
       "        <AxesSubplot:title={'center':'target'}>, <AxesSubplot:>,\n",
       "        <AxesSubplot:>]], dtype=object)"
      ]
     },
     "execution_count": 35,
     "metadata": {},
     "output_type": "execute_result"
    },
    {
     "data": {
      "image/png": "[encoded data removed]",
      "text/plain": [
       "<Figure size 1080x720 with 16 Axes>"
      ]
     },
     "metadata": {
      "needs_background": "light"
     },
     "output_type": "display_data"
    }
   ],
   "source": [
    "# Just to get a look into distribution of data into datasets\n",
    "# Plot a histogram for boston_df\n",
    "#boston_df.hist(column = \"target\")\n",
    "#boston_df.hist()\n",
    "boston_df.hist(column = [x for x in boston_df.columns], figsize = (15,10))"
   ]
  },
  {
   "cell_type": "markdown",
   "metadata": {
    "id": "1iO7S9qNfacW"
   },
   "source": [
    "**Splitting the data using train_test_split from sklearn library**"
   ]
  },
  {
   "cell_type": "code",
   "execution_count": 36,
   "metadata": {
    "id": "cMrk3mX0fU4K"
   },
   "outputs": [],
   "source": [
    "# Import machine learning libraries  for train_test_split\n",
    "\n",
    "...\n",
    "from sklearn.model_selection import train_test_split\n",
    "\n",
    "# Split the data into X and Y\n",
    "\n",
    "X=boston_df[['CRIM','ZN','INDUS','CHAS','NOX','RM','AGE','DIS','RAD','TAX','PTRATIO','B','LSTAT']]\n",
    "y=boston_df[[\"target\"]]\n",
    "\n",
    "# Spliting our data further into train and test (train-90% and test-10%)\n",
    "# Use (randon_state = 42) in train_test_split, so that your answer can be evaluated\n",
    "\n",
    "...\n",
    "X_train, X_test, y_train, y_test=train_test_split(X,y, random_state=42,test_size=0.1)"
   ]
  },
  {
   "cell_type": "markdown",
   "metadata": {
    "id": "4XLXVoPyjrJw"
   },
   "source": [
    "**LINEAR REGRESSION**"
   ]
  },
  {
   "cell_type": "code",
   "execution_count": 37,
   "metadata": {
    "id": "RfTvZ73seyrG"
   },
   "outputs": [],
   "source": [
    "# Question 2: Find mean squared error on the test set and the linear regression intercept(b)  \n",
    "#             Assign the answer to ans[0] in the form of a list \n",
    "#             eg. ans[1] = [78.456398468,34.276498234098] \n",
    "#                  here , mean squared error             = 78.456398468\n",
    "#                         linear regression intercept(b) = 34.276498234098\n"
   ]
  },
  {
   "cell_type": "code",
   "execution_count": 38,
   "metadata": {
    "colab": {
     "base_uri": "https://localhost:8080/"
    },
    "id": "LT0LxSNkg-JM",
    "outputId": "59bbce89-0544-47aa-91c5-8e73cd3544c3"
   },
   "outputs": [
    {
     "name": "stdout",
     "output_type": "stream",
     "text": [
      "[14.995852876582635, 36.73146277462391]\n"
     ]
    }
   ],
   "source": [
    "# Fit a linear regression model on the above training data and find MSE over the test set.\n",
    "# Your Code: Enter your Code below\n",
    "from sklearn.linear_model import LinearRegression\n",
    "from sklearn.metrics import mean_squared_error,r2_score\n",
    "regressor = LinearRegression().fit(X_train, y_train)\n",
    "y_pred = regressor.predict(X_test)\n",
    "mean_squared_error(y_test,y_pred)\n",
    "p=[mean_squared_error(y_test,y_pred),float(regressor.intercept_)]\n",
    "print(p)"
   ]
  },
  {
   "cell_type": "code",
   "execution_count": 39,
   "metadata": {
    "id": "qY56e1hphB8d"
   },
   "outputs": [],
   "source": [
    "# 2 marks\n",
    "ans[1] =p"
   ]
  },
  {
   "cell_type": "markdown",
   "metadata": {
    "id": "3z9nfNuTjytb"
   },
   "source": [
    "**RIDGE REGRESSION**"
   ]
  },
  {
   "cell_type": "code",
   "execution_count": 40,
   "metadata": {
    "id": "PIDR1n1oiu_R"
   },
   "outputs": [],
   "source": [
    "# Question 3: For what value of lambda (alpha)(in the list[0.5,1,5,10,50,100]) will we have least value of the mean squared error of testing set \n",
    "#             Take lambda (alpha) values as specified i.e. [0.5,1,5,10,50,100]\n",
    "#             Assign the answer to ans[2]  \n",
    "#             eg. ans[1] = 5  (if  lambda(alpha)=5)\n"
   ]
  },
  {
   "cell_type": "code",
   "execution_count": 41,
   "metadata": {
    "id": "ATc4RAyBlZCH"
   },
   "outputs": [],
   "source": [
    "# Your Code: Enter your Code below\n",
    "df = pd.DataFrame(boston.data, columns=boston.feature_names)\n",
    "df['PRICE'] = boston.target\n",
    "\n",
    "# standardize and train/test split\n",
    "#boston.data = preprocessing.scale(boston.data)\n",
    "X_train, X_test, y_train, y_test = train_test_split(boston.data, boston.target, test_size=0.1, random_state=42)\n",
    "\n",
    "from sklearn.linear_model import Ridge\n",
    "ridge_reg = Ridge(alpha=0)\n",
    "ridge_reg.fit(X_train, y_train)\n",
    "ridge_df = pd.DataFrame({'variable': boston.feature_names, 'estimate': ridge_reg.coef_})\n",
    "ridge_train_pred = []\n",
    "ridge_test_pred = []\n",
    "\n",
    "# iterate lambdas\n",
    "for alpha in [0.5,1,5,10,50,100]:\n",
    "    # training\n",
    "    ridge_reg = Ridge(alpha=alpha)\n",
    "    ridge_reg.fit(X_train, y_train)\n",
    "    var_name = 'estimate' + str(alpha)\n",
    "    ridge_df[var_name] = ridge_reg.coef_\n",
    "    # prediction\n",
    "    ridge_train_pred.append(ridge_reg.predict(X_train))\n",
    "    ridge_test_pred.append(ridge_reg.predict(X_test))\n"
   ]
  },
  {
   "cell_type": "code",
   "execution_count": 42,
   "metadata": {
    "colab": {
     "base_uri": "https://localhost:8080/"
    },
    "id": "HhwRZsaXKAwB",
    "outputId": "9af06b3b-d673-4ad6-8994-fc23ed1a818c"
   },
   "outputs": [
    {
     "data": {
      "text/plain": [
       "[array([29.16968294, 35.99446001, 13.66954666, 24.60616011, 19.02832749,\n",
       "        22.68082139, 17.64698103, 13.48318382, 22.8985657 , 20.7438912 ,\n",
       "        24.67168488, 18.87172117, -5.30252303, 21.07873983, 19.66376532,\n",
       "        25.79203994, 20.3198902 ,  6.28797773, 40.47314636, 17.90419625,\n",
       "        27.29470436, 30.16123932, 11.48906756, 23.96636387, 18.51521763,\n",
       "        16.23690658, 22.33706633, 15.18105399, 22.19054052, 19.42797363,\n",
       "        22.909046  , 25.22926909, 25.47836149, 19.14803249, 16.69321446,\n",
       "        17.98219874, 30.8311748 , 20.6527546 , 23.39595261, 24.00500002,\n",
       "        14.10763062, 32.67748873, 42.6328537 , 17.32321503, 27.26876539,\n",
       "        17.5843155 , 14.41935696, 25.19454568, 20.17323957, 30.33610682,\n",
       "        21.64856871]),\n",
       " array([29.06065885, 35.86591821, 13.43973363, 24.51368255, 19.16278559,\n",
       "        22.3515263 , 17.62935418, 13.45241821, 22.56477366, 20.80456968,\n",
       "        24.40994296, 18.82544527, -5.35594511, 20.8356207 , 19.64413991,\n",
       "        25.73733417, 20.16766898,  6.27080179, 40.43456979, 18.02032519,\n",
       "        27.36044658, 30.10242399, 11.51551425, 24.13152937, 18.6358469 ,\n",
       "        15.98294569, 22.12559959, 15.27918268, 21.914672  , 19.5242453 ,\n",
       "        22.75310466, 25.28300278, 25.48652758, 19.4442918 , 16.43029938,\n",
       "        18.50216176, 30.81276865, 20.85551898, 23.22360036, 23.90779704,\n",
       "        14.15852619, 32.62931829, 42.55605584, 17.20700126, 27.22987312,\n",
       "        17.64971956, 14.44495086, 25.10254733, 19.97456764, 30.4447222 ,\n",
       "        21.61321732]),\n",
       " array([28.84965934, 35.386711  , 12.85238589, 24.30572496, 19.48486599,\n",
       "        21.57885542, 17.60096543, 13.30919169, 21.81330981, 20.96269382,\n",
       "        23.64216368, 18.75977579, -5.46577531, 20.24978255, 19.65912861,\n",
       "        25.57219334, 19.84872885,  6.26703976, 40.30525352, 18.30644712,\n",
       "        27.5296688 , 29.97924941, 11.57288407, 24.49932141, 18.9616232 ,\n",
       "        15.45398299, 21.64798455, 15.47936375, 21.09702187, 19.77864674,\n",
       "        22.46717726, 25.42277292, 25.45072611, 20.27233324, 15.8155877 ,\n",
       "        19.80550884, 30.75647885, 21.37560807, 22.62982255, 23.6604229 ,\n",
       "        14.29589691, 32.54070968, 42.33158343, 16.95753729, 27.15523801,\n",
       "        17.85971073, 14.52853826, 24.85912453, 19.5197135 , 30.74289783,\n",
       "        21.59399307]),\n",
       " array([28.84917415, 35.07710765, 12.64078362, 24.26406789, 19.569152  ,\n",
       "        21.3810726 , 17.60860281, 13.17785096, 21.65868963, 21.02094922,\n",
       "        23.28890891, 18.79604323, -5.46668836, 20.08055135, 19.74152909,\n",
       "        25.47575709, 19.80750499,  6.31247019, 40.21443743, 18.39125145,\n",
       "        27.58916738, 29.96285062, 11.58329081, 24.56349033, 19.09443421,\n",
       "        15.40365919, 21.55036671, 15.48857554, 20.7135549 , 19.87873752,\n",
       "        22.49548029, 25.47370879, 25.36292825, 20.64890192, 15.65876533,\n",
       "        20.23572352, 30.72033214, 21.56445075, 22.27893473, 23.57212626,\n",
       "        14.35418384, 32.54359735, 42.20747998, 16.92775829, 27.15529956,\n",
       "        17.98118707, 14.58133687, 24.76060701, 19.41425755, 30.87077501,\n",
       "        21.66821932]),\n",
       " array([29.10806853, 34.13420435, 12.07784978, 24.29330517, 19.58190716,\n",
       "        21.19267066, 17.69295535, 12.43350794, 21.70128499, 21.15017762,\n",
       "        22.49691604, 19.15178489, -5.20359694, 19.81317316, 20.31567465,\n",
       "        24.95789017, 19.90805483,  6.63052585, 39.64822769, 18.47383477,\n",
       "        27.69453442, 29.96915476, 11.60853445, 24.38516306, 19.4559576 ,\n",
       "        15.86124109, 21.61474487, 15.2054151 , 19.84835999, 20.16557604,\n",
       "        23.11071654, 25.59043473, 24.69128186, 21.94725381, 15.47916221,\n",
       "        21.11240389, 30.49794125, 22.08489484, 21.28649461, 23.33045317,\n",
       "        14.54885514, 32.60873368, 41.52326157, 17.17339112, 27.23210954,\n",
       "        18.45041024, 14.85416907, 24.43271499, 19.3348967 , 31.24805136,\n",
       "        22.20714776]),\n",
       " array([29.26637885, 33.72383124, 11.78001203, 24.3468591 , 19.50419875,\n",
       "        21.18342582, 17.77025527, 11.89133189, 21.83323653, 21.1945735 ,\n",
       "        22.2804532 , 19.46876744, -4.9235485 , 19.73076524, 20.77673676,\n",
       "        24.53409434, 19.98623623,  6.86052215, 39.1251828 , 18.46248912,\n",
       "        27.69513318, 29.91608239, 11.68182254, 24.1670409 , 19.63802827,\n",
       "        16.27747283, 21.74133724, 14.95775678, 19.64310025, 20.32285096,\n",
       "        23.56714162, 25.65386405, 24.12798012, 22.75851516, 15.42280009,\n",
       "        21.49239391, 30.32569538, 22.41640691, 20.93782576, 23.18539734,\n",
       "        14.66535837, 32.5821836 , 40.89685526, 17.4585024 , 27.25558312,\n",
       "        18.73443335, 15.09396856, 24.2185789 , 19.325704  , 31.42969701,\n",
       "        22.63809491])]"
      ]
     },
     "execution_count": 42,
     "metadata": {},
     "output_type": "execute_result"
    }
   ],
   "source": [
    "ridge_test_pred"
   ]
  },
  {
   "cell_type": "code",
   "execution_count": 43,
   "metadata": {
    "colab": {
     "base_uri": "https://localhost:8080/"
    },
    "id": "s0iIUHPm1fSd",
    "outputId": "003225a4-44db-40c5-ff59-61e68f17be45"
   },
   "outputs": [
    {
     "data": {
      "text/plain": [
       "[14.809385226585514,\n",
       " 14.775452511215349,\n",
       " 14.958292845779399,\n",
       " 15.13738314391595,\n",
       " 15.97791060718164,\n",
       " 16.679653748490608]"
      ]
     },
     "execution_count": 43,
     "metadata": {},
     "output_type": "execute_result"
    }
   ],
   "source": [
    "l=[0.5,1,5,10,50,100]\n",
    "ridge_mse_test = [mean_squared_error(y_test, p) for p in ridge_test_pred]\n",
    "ridge_mse_test.index(min(ridge_mse_test))\n",
    "ridge_mse_test"
   ]
  },
  {
   "cell_type": "code",
   "execution_count": 44,
   "metadata": {
    "colab": {
     "base_uri": "https://localhost:8080/",
     "height": 317
    },
    "id": "N2_PhMq-3lx6",
    "outputId": "774962b4-1897-4ad6-e41a-75dcb78d3a11"
   },
   "outputs": [
    {
     "data": {
      "text/plain": [
       "Text(0, 0.5, 'MSE')"
      ]
     },
     "execution_count": 44,
     "metadata": {},
     "output_type": "execute_result"
    },
    {
     "data": {
      "image/png": "[encoded data removed]",
      "text/plain": [
       "<Figure size 432x288 with 1 Axes>"
      ]
     },
     "metadata": {
      "needs_background": "light"
     },
     "output_type": "display_data"
    }
   ],
   "source": [
    "# plot mse\n",
    "plt.scatter(l,ridge_mse_test)\n",
    "plt.title(\"Ridge Test Set MSE\", fontsize=16)\n",
    "plt.xlabel(\"lambda$\\longrightarrow$\")\n",
    "plt.ylabel(\"MSE\")"
   ]
  },
  {
   "cell_type": "code",
   "execution_count": 45,
   "metadata": {
    "colab": {
     "base_uri": "https://localhost:8080/"
    },
    "id": "7VdjPtqilhAJ",
    "outputId": "f505a208-fa1d-4555-cf86-3681edbb04bc"
   },
   "outputs": [
    {
     "data": {
      "text/plain": [
       "1"
      ]
     },
     "execution_count": 45,
     "metadata": {},
     "output_type": "execute_result"
    }
   ],
   "source": [
    "#1 mark\n",
    "ans[2] =l[ ridge_mse_test.index(min(ridge_mse_test))]\n",
    "ans[2]"
   ]
  },
  {
   "cell_type": "code",
   "execution_count": 46,
   "metadata": {
    "id": "UsOpPn5Olkm-"
   },
   "outputs": [],
   "source": [
    "# Question 4: Find mean squared error on the test set and the Ridge regression intercept(b)\n",
    "#             Use the lamba(alpha) value obtained from question-3 \n",
    "#             Assign the answer to ans[3] in the form of a list \n",
    "#             eg. ans[3] = [45.456398468,143.276498234098] \n",
    "#                  here , mean squared error             = 45.456398468\n",
    "#                         Ridge regression intercept(b) = 143.276498234098\n"
   ]
  },
  {
   "cell_type": "code",
   "execution_count": 47,
   "metadata": {
    "colab": {
     "base_uri": "https://localhost:8080/"
    },
    "id": "icg9MI6ZlkyO",
    "outputId": "6f2f2d5c-1ac7-4a4f-b38f-f75bd71f1162"
   },
   "outputs": [
    {
     "name": "stdout",
     "output_type": "stream",
     "text": [
      "[14.775452511215349, 31.465535305975997]\n"
     ]
    }
   ],
   "source": [
    "# Your Code: Enter your Code below\n",
    "l=[0.5,1,5,10,50,100]\n",
    "ridge_reg = Ridge(alpha=l[ridge_mse_test.index(min(ridge_mse_test))])\n",
    "ridge_reg.fit(X_train, y_train)\n",
    "var_name = 'estimate' + str(alpha)\n",
    "ridge_df[var_name] = ridge_reg.coef_\n",
    "y_pred=ridge_reg.predict(X_test)\n",
    "mean_squared_error(y_test,y_pred)\n",
    "p=[mean_squared_error(y_test,y_pred),float(ridge_reg.intercept_)]\n",
    "print(p)"
   ]
  },
  {
   "cell_type": "code",
   "execution_count": 48,
   "metadata": {
    "id": "0A2scygllk9a"
   },
   "outputs": [],
   "source": [
    "# 2 marks\n",
    "ans[3] =p"
   ]
  },
  {
   "cell_type": "code",
   "execution_count": 49,
   "metadata": {
    "colab": {
     "base_uri": "https://localhost:8080/",
     "height": 303
    },
    "id": "CiIbohqZllIw",
    "outputId": "322a9d4e-24f9-4cff-a7f8-bc67484e235d"
   },
   "outputs": [
    {
     "name": "stdout",
     "output_type": "stream",
     "text": [
      "[-0.10615247279370778, -0.106051677815858, -0.10613308316795458, -0.10654129143209819, -0.10803508618931747, -0.1083617437711977] [-0.002792788097409637, -0.005402252210475868, -0.011581067204456433, -0.012316769489363045, -0.011309570966967827, -0.013142431469053417] [-2.706937232993308, -2.194520437912297, -0.7547842233943424, -0.3174391224002702, 0.11279900287067139, 0.14747633122138665]\n"
     ]
    },
    {
     "data": {
      "image/png": "[encoded data removed]",
      "text/plain": [
       "<Figure size 432x288 with 1 Axes>"
      ]
     },
     "metadata": {
      "needs_background": "light"
     },
     "output_type": "display_data"
    }
   ],
   "source": [
    "# Plot the coefficient of the features( CRIM , INDUS , NOX ) with respective to  the lambda values specified [0.5,1,5,10,50,100]\n",
    "# Enter your code below\n",
    "coef_CRIM = []\n",
    "coef_INDUS = []\n",
    "coef_NOX = []\n",
    "l=[0.5,1,5,10,50,100]\n",
    "for a in l:\n",
    "    ridge_ = Ridge(alpha=a, fit_intercept=False).fit(X_train, y_train)\n",
    "    coef_CRIM .append(ridge_.coef_[0])\n",
    "    coef_INDUS .append(ridge_.coef_[2])\n",
    "    coef_NOX .append(ridge_.coef_[4])\n",
    "print(coef_CRIM,coef_INDUS,coef_NOX)\n",
    "plt.figure()\n",
    "plt.plot(l,coef_CRIM,label='CRIM')\n",
    "plt.plot(l,coef_INDUS,label='INDUS')\n",
    "plt.plot(l,coef_NOX,label='NOX')\n",
    "plt.legend()\n",
    "plt.show()"
   ]
  },
  {
   "cell_type": "markdown",
   "metadata": {
    "id": "lvyrdYaEm0yq"
   },
   "source": [
    "**LASSO REGRESSION**"
   ]
  },
  {
   "cell_type": "code",
   "execution_count": 50,
   "metadata": {
    "id": "wZRhaPXamn5d"
   },
   "outputs": [],
   "source": [
    "# Question 5: For lambda (alpha)=1 find the lasso regression intercept and the test set mean squared error\n",
    "#             Assign the answer to ans[4] in the form of a list \n",
    "#             eg. ans[4] = [35.456398468,14.276498234098] \n",
    "#                  here , mean squared error             = 35.456398468\n",
    "#                         lasso regression intercept(b) = 14.276498234098\n"
   ]
  },
  {
   "cell_type": "code",
   "execution_count": 51,
   "metadata": {
    "colab": {
     "base_uri": "https://localhost:8080/"
    },
    "id": "J7nwJ_11n9YP",
    "outputId": "64cbc54e-d5e4-4a39-fcb0-ffe4df48b856"
   },
   "outputs": [
    {
     "name": "stdout",
     "output_type": "stream",
     "text": [
      "[18.645326946116253, 31.465535305975997]\n"
     ]
    }
   ],
   "source": [
    "# Your Code: Enter your Code below\n",
    "df = pd.DataFrame(boston.data, columns=boston.feature_names)\n",
    "df['PRICE'] = boston.target\n",
    "\n",
    "# standardize and train/test split\n",
    "#boston.data = preprocessing.scale(boston.data)\n",
    "X_train, X_test, y_train, y_test = train_test_split(boston.data, boston.target, test_size=0.1, random_state=42)\n",
    "\n",
    "from sklearn.linear_model import Lasso\n",
    "lasso_reg=Lasso(alpha=1)\n",
    "lasso_reg.fit(X_train, y_train)\n",
    "y_pred=lasso_reg.predict(X_test)\n",
    "mean_squared_error(y_test,y_pred)\n",
    "p=[mean_squared_error(y_test,y_pred),float(ridge_reg.intercept_)]\n",
    "print(p)"
   ]
  },
  {
   "cell_type": "code",
   "execution_count": 52,
   "metadata": {
    "id": "vOMlK2izoCLX"
   },
   "outputs": [],
   "source": [
    "#2 mark\n",
    "ans[4] = p"
   ]
  },
  {
   "cell_type": "code",
   "execution_count": 53,
   "metadata": {
    "id": "JTpJ20VFoJR9"
   },
   "outputs": [],
   "source": [
    "# Question 6: Find the most  important feature  in the data set i.e. which feature coefficient is further most non zero if lambda is increased gradually\n",
    "#             let CRIM=1,\tZN=2, INDUS=3,\tCHAS=4,\tNOX=5,\tRM=6,\tAGE=7,\tDIS=8,\tRAD=9,\tTAX=10,\tPTRATIO=11,\tB=12,\tLSTAT=13\n",
    "#              eg. if your answer is \"CHAS\"\n",
    "#                   then your answer should be ans[5]=4"
   ]
  },
  {
   "cell_type": "code",
   "execution_count": 54,
   "metadata": {
    "colab": {
     "base_uri": "https://localhost:8080/"
    },
    "id": "KvVVoXKAoJUs",
    "outputId": "c55336b9-2d08-4c39-b425-ffdee1ad436d"
   },
   "outputs": [
    {
     "name": "stdout",
     "output_type": "stream",
     "text": [
      "[-0.09617247  0.04135393 -0.01746489  0.         -0.          2.48798492\n",
      "  0.00736888 -0.93140922  0.2823298  -0.01474333 -0.7599313   0.01034801\n",
      " -0.68133757]\n",
      "[-0.08639831  0.04017289 -0.00544004  0.         -0.          1.75245365\n",
      "  0.0156835  -0.78349487  0.27863804 -0.0149102  -0.74996899  0.00979455\n",
      " -0.73087656]\n",
      "[-0.07680943  0.03881278 -0.          0.         -0.          1.01044741\n",
      "  0.02415483 -0.64204226  0.27317799 -0.01488284 -0.73971637  0.00922596\n",
      " -0.77996817]\n",
      "[-0.05734129  0.03327842 -0.          0.         -0.          0.\n",
      "  0.03845285 -0.35620693  0.24403999 -0.01381319 -0.69532728  0.0083377\n",
      " -0.8444778 ]\n",
      "[-0.          0.02508344 -0.          0.          0.          0.\n",
      "  0.03369604 -0.          0.         -0.00758654 -0.          0.00726329\n",
      " -0.7713216 ]\n",
      "[-0.          0.01097308 -0.          0.          0.          0.\n",
      "  0.         -0.          0.         -0.00917737 -0.          0.00831571\n",
      " -0.5894495 ]\n",
      "[-0.          0.01516797 -0.          0.         -0.          0.\n",
      " -0.         -0.          0.         -0.01746681 -0.          0.01134532\n",
      " -0.17145537]\n",
      "[-0.          0.         -0.          0.         -0.          0.\n",
      " -0.          0.         -0.         -0.02098484 -0.          0.00534476\n",
      " -0.        ]\n",
      "[-0.          0.         -0.          0.         -0.          0.\n",
      " -0.          0.         -0.         -0.02081804 -0.          0.00317626\n",
      " -0.        ]\n",
      "[-0.          0.         -0.          0.         -0.          0.\n",
      " -0.          0.         -0.         -0.02054862 -0.          0.\n",
      " -0.        ]\n",
      "[-0.          0.         -0.          0.         -0.          0.\n",
      " -0.          0.         -0.         -0.01948169 -0.          0.\n",
      " -0.        ]\n"
     ]
    }
   ],
   "source": [
    "# Your Code: Enter your Code below\n",
    "from sklearn import metrics\n",
    "for alpha in [0.5, 0.75, 1, 1.5, 5, 10, 25, 100, 120, 150, 180]:\n",
    "  lassoReg = Lasso(alpha).fit(X_train, y_train)\n",
    "  y_pred=lassoReg.predict(X_test) \n",
    "  mean_squared_error=metrics.mean_squared_error(y_test,y_pred)\n",
    "  print(lassoReg.coef_)"
   ]
  },
  {
   "cell_type": "code",
   "execution_count": 55,
   "metadata": {
    "id": "N2sv3k_WoJYA"
   },
   "outputs": [],
   "source": [
    "#2 marks\n",
    "ans[5] = 10"
   ]
  },
  {
   "cell_type": "markdown",
   "metadata": {
    "id": "VURqrMMKwXv1"
   },
   "source": [
    "Run the below cell only once u complete answering all the above answers \n"
   ]
  },
  {
   "cell_type": "code",
   "execution_count": 56,
   "metadata": {
    "id": "Ca9lfXvCwSd0"
   },
   "outputs": [
    {
     "ename": "ModuleNotFoundError",
     "evalue": "No module named 'findScore'",
     "output_type": "error",
     "traceback": [
      "\u001b[1;31m---------------------------------------------------------------------------\u001b[0m",
      "\u001b[1;31mModuleNotFoundError\u001b[0m                       Traceback (most recent call last)",
      "\u001b[1;32m<ipython-input-56-163e46469683>\u001b[0m in \u001b[0;36m<module>\u001b[1;34m\u001b[0m\n\u001b[0;32m      8\u001b[0m \u001b[1;32mfrom\u001b[0m \u001b[0mpprint\u001b[0m \u001b[1;32mimport\u001b[0m \u001b[0mpprint\u001b[0m\u001b[1;33m\u001b[0m\u001b[1;33m\u001b[0m\u001b[0m\n\u001b[0;32m      9\u001b[0m \u001b[1;33m\u001b[0m\u001b[0m\n\u001b[1;32m---> 10\u001b[1;33m \u001b[0mfindScore\u001b[0m \u001b[1;33m=\u001b[0m \u001b[0mimport_module\u001b[0m\u001b[1;33m(\u001b[0m\u001b[1;34m'findScore'\u001b[0m\u001b[1;33m)\u001b[0m\u001b[1;33m\u001b[0m\u001b[1;33m\u001b[0m\u001b[0m\n\u001b[0m\u001b[0;32m     11\u001b[0m \u001b[0mresponse\u001b[0m \u001b[1;33m=\u001b[0m \u001b[0mfindScore\u001b[0m\u001b[1;33m.\u001b[0m\u001b[0mmain\u001b[0m\u001b[1;33m(\u001b[0m\u001b[0mans\u001b[0m\u001b[1;33m)\u001b[0m\u001b[1;33m\u001b[0m\u001b[1;33m\u001b[0m\u001b[0m\n\u001b[0;32m     12\u001b[0m \u001b[0mresponse\u001b[0m\u001b[1;33m[\u001b[0m\u001b[1;34m'details'\u001b[0m\u001b[1;33m]\u001b[0m \u001b[1;33m=\u001b[0m \u001b[0mfilename\u001b[0m\u001b[1;33m\u001b[0m\u001b[1;33m\u001b[0m\u001b[0m\n",
      "\u001b[1;32mC:\\ProgramData\\Anaconda3\\lib\\importlib\\__init__.py\u001b[0m in \u001b[0;36mimport_module\u001b[1;34m(name, package)\u001b[0m\n\u001b[0;32m    125\u001b[0m                 \u001b[1;32mbreak\u001b[0m\u001b[1;33m\u001b[0m\u001b[1;33m\u001b[0m\u001b[0m\n\u001b[0;32m    126\u001b[0m             \u001b[0mlevel\u001b[0m \u001b[1;33m+=\u001b[0m \u001b[1;36m1\u001b[0m\u001b[1;33m\u001b[0m\u001b[1;33m\u001b[0m\u001b[0m\n\u001b[1;32m--> 127\u001b[1;33m     \u001b[1;32mreturn\u001b[0m \u001b[0m_bootstrap\u001b[0m\u001b[1;33m.\u001b[0m\u001b[0m_gcd_import\u001b[0m\u001b[1;33m(\u001b[0m\u001b[0mname\u001b[0m\u001b[1;33m[\u001b[0m\u001b[0mlevel\u001b[0m\u001b[1;33m:\u001b[0m\u001b[1;33m]\u001b[0m\u001b[1;33m,\u001b[0m \u001b[0mpackage\u001b[0m\u001b[1;33m,\u001b[0m \u001b[0mlevel\u001b[0m\u001b[1;33m)\u001b[0m\u001b[1;33m\u001b[0m\u001b[1;33m\u001b[0m\u001b[0m\n\u001b[0m\u001b[0;32m    128\u001b[0m \u001b[1;33m\u001b[0m\u001b[0m\n\u001b[0;32m    129\u001b[0m \u001b[1;33m\u001b[0m\u001b[0m\n",
      "\u001b[1;32mC:\\ProgramData\\Anaconda3\\lib\\importlib\\_bootstrap.py\u001b[0m in \u001b[0;36m_gcd_import\u001b[1;34m(name, package, level)\u001b[0m\n",
      "\u001b[1;32mC:\\ProgramData\\Anaconda3\\lib\\importlib\\_bootstrap.py\u001b[0m in \u001b[0;36m_find_and_load\u001b[1;34m(name, import_)\u001b[0m\n",
      "\u001b[1;32mC:\\ProgramData\\Anaconda3\\lib\\importlib\\_bootstrap.py\u001b[0m in \u001b[0;36m_find_and_load_unlocked\u001b[1;34m(name, import_)\u001b[0m\n",
      "\u001b[1;31mModuleNotFoundError\u001b[0m: No module named 'findScore'"
     ]
    }
   ],
   "source": [
    "# Run the this cell to submit your answers and get score evaluated\"\n",
    "# Do not make any changes in this cell\n",
    "# Simply execute it and move on\n",
    "ans = [str(item) for item in ans]\n",
    "filename = \"yash1082000@gmail.com_Yash_Vardhan_Agarwal_RidgeRegression\"\n",
    "from importlib import import_module\n",
    "import os\n",
    "from pprint import pprint\n",
    "findScore = import_module('findScore')\n",
    "response = findScore.main(ans)\n",
    "response['details'] = filename\n",
    "with open(f'evaluation_{filename}.json', 'w') as outfile:\n",
    "    json.dump(response, outfile)\n",
    "pprint(response)"
   ]
  }
 ],
 "metadata": {
  "colab": {
   "name": "assignment4_regularized_regression (1) (2).ipynb",
   "provenance": []
  },
  "kernelspec": {
   "display_name": "Python 3",
   "language": "python",
   "name": "python3"
  },
  "language_info": {
   "codemirror_mode": {
    "name": "ipython",
    "version": 3
   },
   "file_extension": ".py",
   "mimetype": "text/x-python",
   "name": "python",
   "nbconvert_exporter": "python",
   "pygments_lexer": "ipython3",
   "version": "3.8.8"
  }
 },
 "nbformat": 4,
 "nbformat_minor": 1
}
